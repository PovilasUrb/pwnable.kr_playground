{
 "cells": [
  {
   "cell_type": "markdown",
   "metadata": {},
   "source": [
    "Lets find all ascii characters in the file, maybe they'll tell us something"
   ]
  },
  {
   "cell_type": "code",
   "execution_count": 17,
   "metadata": {},
   "outputs": [
    {
     "name": "stdout",
     "output_type": "stream",
     "text": [
      "U P X x g X   l w H K l H t y n I V U h A W A V A U A T S u S L t A A A h A A U A t V b l y V u I k z P b o K f T p M h T r P H E S w X t E v o u K A G W P K F A p Z D A e I c   v h h z n H Q H L v H s G d O T g f f Q S H E u G   T y o   D b d   v q D N R H l h u O q T Y q m c o e   u G s u Q Y p B e n   p U B   C E E w x O M I v Z P t D a B d Y P I w L e r g L e   F t Z   G t u G b C h h u A r i l C W L H c J W G W X m   w B L P v h M H i S a I C O H B f n D U X h f P p m L P n k T o n v P F T u u s   h H P X   R V Q C A W E p Q j K q r P O F U L O P x x J O b j h x M f l c A a   c u o q I H y P S x z Z I F b q q j J u r v J X q L t p l y B t r B s P C t c B D p O B y H N L N l o S n B H T d U p S t   Q h S P h h n N Q I H V n E n   f   C X T F m f l a R g B A T k D v   N L K R x I v J m G M R i   A b n   u B w B D a V L x L b O X P h D Z V M W B M C Y M e X t C n p f Q u I B T c c V c C   u x Y n p G C m l Z B t t p h f K H x A y y G W h f M d k m N w     V R I u h Y x t R V f A V I e s B H s m   l A M e k t d X h k m o m H H l u P l Y L L m v s q p L Y i X l M V A k C s p k h Z Y   u R P h q P q r I Y m q Q   n X C H G C I l D j r   p b l R c n L l T H E A I Z D p M h w s a x p   v R S I z K G w A L X I v T f m A H m A H A t G M V   m B i x z   D N m D g w V u r A B I e M k C L L E o G y G p S s X C y   L v x v y H u E Y F X D p h L T n l I c Q F f h I h L A n   Y H k r x T c y U   X Z m h A G T q   p K d a v T C H F B E O T v z t T H X T o t U t k h v N r   u H d a v K j P a u s a x T L J T A E L D D d A u o T H p U w M P n i t n h F f H V P r l D K p h q b L P L C w u H a F O E o t r   i b t s R x z T V k I X t p l a k o d e x O L x Y u H w Y P I a q e Y N X L E a   l K q z L l C Q v G B e L z B O J S L F X e U z X g c Q m O D v W l L p a n c P q G x D N R r y L Z q e z I y a I S I u k G r y m o l n w r R j B   v n I s A Q w l F P E I X p w t Y I A Z S H o y j   u x I v a A l l a I l Q L T L o d o d z U f c P F f   n a O q v M o d L u b J s Z d I u Y j n d F u V g E w U l D T d C w Q j B R l A Q   P k i R H P X T h p     t S u Q w   f n v   g o X t m d j   g o y H P X h p x G P X h p r V B U G h y q O   b G b X A P c D X P d p s o K G n t H q E s O Q k o k x P T j N t Z u   W N G C O w A P m o n B b L G f O f p d J f G r w u N X W d h N o   n j V h x K X   V   W D n P v l B g o t t   L F   s   P W H Q O   w   w j s o d h W m m e f B B O f n P O W g p A E E a N I k h x e g D a e B   M D O P P F j p f D N t h p p M b E H L L K k r   J Z I Y c H X r w p A F V T E L L C S V n n A n Q B R n n n x n n x n l V B D y q j n O E k   B T g E e S r r T w J g D u w r P T o O O n n T J N N J m m T J M M J J l L L J J k k K J K z K T j j Z Z J J J T w y K y i i Y J Y I I X X H H F w K w g g W W G G T f V V F F T u e e U U R E E V T t K t d d T J T D D s K s T S S C C r K r R R B B f q K q R a Q Q A A R T D R H h f t Y   y B f Q H F F T G K L K L p B f Q H F F R c x t K L p g L W H f   h H L i l F A J K x n X w   a X I o U V w H N G W F H v j A d   H d t u u M u X u c R Y   u n u y s i I I M i I I   B d A x u A W I H P k M B d S o O U u x d J Z g t B v e p X v T A a w P b U S d r x d e v l o g f z w t   m i v H T x h v s p R L t F A C g e j D J f p o u t   e m o r y   A D L A G p C M r X b K I o J S P n q d s M A p R e W Z z T X z P Z z p T A A R R M f Z W X c C L A N Q X E t M Q e q w L i P J E I b u R E j Z c U h P L v m Q J u X j A R t P k l C D I B L n u j n w G U x t t t u Z t N e b p l L R H d M v N t I E z O V w a P n t e l G e n u u i n e I l B c A M D t A A u t h u w H h v A z D F U s h T p N d M R M a X g l A E E L K b Y j G Y E D M a E y j g z M a A H M H f j u m C p x x r P t K s T k C p I M O e T R A N S L I T A X B R P J o d x G B G m e I m o q C a o S a H A m u N q P T x I k M A M V e x x u L J R d i S J e F x G k t J I e i q Y G L A o D a O a O k g w l j v o t x t s x k P D s A E     R m z L h Q E W A m A y L Z A v H X M N Z L D E Z A T s G B M u j C R v u X H a N e z p a x u a N H E O C W w u j k W G K l T c a l e l J l L H O Y n o N g v   Q J Z F v T M B E A p H y X J A G H L l Q K R p Y x H D E   T P h E m p v D i d L C N E E Y P u r r   n A Q O Q X A   y A B w v J t R M t A w g t H D g v l i C b x I c x b N l b H p L f K j d n P G I l O l i r v C A P j b W   I C v g Z q X w m T E l l Y A E s Q d h X P H A   V R C M T I X x Z G u B f p L v x X D o I i W a j j l e J V c D B   S A X J h I Y W x C u R E o a Q I N S H H o o E D L J U J F A t Y t C w   S O e B   l Y k l S k p s b X T N E F E X L c b K P x X Q t X t t X l E l R t V t L E L A E e o E   U U   A o U z w n l r s v k B G E A L x S G j t z y   H L x d K n B N s U X p h E c T p A C K E P w r X Q B l k B Q A N w k i m o V H S s u P p B c T h I c T E B c p P Q a u s I p H d C X h D C A Z   v D E o   T x F L y L   I K U z F p c W M c G J x W L K O T t j C p R p G p   z i T M u T   J U x V b r K G   I G H R Q d R n M x E P y H c Q M c Q k Z w u   V R c i i E d v H c s X P S K T Y d w I B A v H t m y P m C z   T M t x t p q J a w j M e   p t p M j X H Y D i O A h v m H m i v M p p N p i i w E T X s C R p A g x g k b p B x c F Q y D Q a q s W t f   z W C x t u s R A N x Q c Q Q j B   y Y x r s D G P g x O v B p E k H m U D R w J Y S w Q K w Z Q N M w x Z q Y s L A y p F u x p y Q a y p u q u c I C e R y   t t i g C J V z t p i h p i X T S A b j H p w k M Y A d w Z Q u L c a G X H Y u Z C T s U G P w a n q F x i X A H H I V Y l D c q D S Q A p r m u p O f B L u w m Q w U t Y G     E B I P Z K   M K B D D H f X J   C J E b p v I U G x H a A k k   q P F H P K Q A L R H z D E S P a q q s   X I X H a b P R Q U N t H l L G I b U Z S b N H c p C z R D q D E B F X x S L c m J B   u a n p R b v n a T A n M E h D E f I c L P A N m   f d H N V K e R P s p h   I B D t L O D h S n I h H c J a A x P Q Q A s   u   o K x P b T t i z l r C u E Q L   L   t U E p   I u n U D B h m U I h b u p n U j u d w E R O t M N v n f l K h H r C k D   v O U E Y   L P B h y L S D A T z r h A w u w L B t y x A B L q f D n v o E Y F E s W M J T I I t x w j O k a q A H   M D D O l n H E B P H H F i c G j m D Y N H f J i l r I z d Q M y d t C P m K X O X Z L   t O h N h P R l V M B h d   k E K U U I i N k W G b c B E X I i d y t n l H J D C D M L P A H t t h o X t M W I r j t a w H d w p P P f t v h G n T a k z Z k s q n   l l N v h H l O C R C i l M E   n b A z U h w K m A c t q k K e r   x a a I E R O y N d s x F H m v p s p I Q p p p p K p P g L x W D   m w z K J J h g q L E u J p x B w E G h z N W W T K S I K M d   o L o D A m Q v m s L z C F l t a U P H Y a B S g I t H e n p S k b S R V K   y x s C   H t u C C r c U q   U w u w   Q X j O a F H W O w f M r H P w q s b t j t M T o M O c o j U O w q D C t U e Z N C H x n m S C f J B N T B D z s K j G f L l S O b X A J L K I P k d G D o G r r b w e g j h j o D A P K t U A l   E b I D u Q D A m t I I i m H O H F r M G w t D a f j q L j v t n t t t I O P j J i S K k X t Z D s c N D L f c i C p H K P O w G H G u t d W P N L W U N t I M Q i a g N   P L c V Z u R d o o N s t J U Q g P B N Y j l w A i m l   O A R T w c L r t m g s J j L M i k H w U L v w o V q Q O c F T p u   C R K a X G t R X o o l f f L t W C H G   S   W D H h X F B D H A t S A A o o B u v     Z   N T C b r H I v C t r T A V M t O E L H f   n G I s A Q O u x T w B Y Q I p S B H E h q a p Z Q t H H M Q Q K d V I D   e U y x y X O v v m U C o L H L X H L H I f T y u K s b K S P l P T W V Y C H H A j u P x Q I   f T B a T k h b F H g s u W y Q   d K L x d d L L   l N R b C J B B I O C t j J P f L F w   D R Y p o h     g G B c t H P     l o   g B O M L M b o x M l q M M Q k f O R R b u w K L I T l l H Z t T B D w A Y P f Y d z l t W   z v t J a X G X X I L x J x Q k H p c V E X M D e B p T I d L K K u M n G g l M K N l b E U P L Z L T r E t c Q G M X p a n X v Y s h u x u F g D x z g H k g Q I Y g u L k t z V   m Q x i u l k L w t A r s f v D O   p h j v A t X m o N L x p I b u O w P X K u M v u t P E m t w W o a w t h r t q r A c U e V j w y L a y l k G Q t E x d d t t A k w S N t u y I j B u a M q L   t u m H C W D R R V   v v A j t f p j n y Q m w d d T c A z D D i v h S t K D p L H   l S o q e O Z H   u A I o a D H I h O A m C W s w B H w t Q O F u a n s U Z B C D i t M B H G P x W u u w k H s g M x L q p t C x j E K Y A n A D N h q t F N D i L t L L k y U o P V u D P U d p L x r M E z H T K Q s I Z X l H D G X G T t P b J w p K r p a v R n R M A p K p G F U p D x F d k v A b P w P A V F   t n q G X t b d I D p I s H l h E x D F l B D Q L D w     d a c x U d F U p k A E l E J D h G m D z u m H q z u z H t H P O S I X V e U Z m j p Y c A W R R F u     g P W H T v E l l J t l z k t M Z W O w P E   A h k D H a P B   Z y F p p t N I f P G V R I A y T M x s H D H k t C a p m M R P O x c F q N T k q K A B t R v N s m N a e m u z S p D k F   u y   S X Z l B p F   X A z x p I J Y H Y H   E e z p j R t F   P H I N W z   v u L Z b Q s p A h H p H A C B S H p S v A o t X h p Y G Y z U p P Y A C V Z P X R I B F e b V L P c J c l o n c P H N E P X Z P H j     D I M H o v P b x M P a O t c v w p A B p a h j G b g W U F T p w Y   F a     Y T x   n v     W U o B O K u Q p H K m E i A U F O i E K O V A S q Q H s P M V C a G C z I w B p l m F O r I m t s C i c a R Z L i g   X o t v K s E I l k S b t t l S q O t I F w m F F A P n D p A g A O P A H c J a k j P x E c G C O D D X l v Z   o o A s D r J A d d g t T q e H n n y H Y j I A x n   A t x g a q D W i Q H H t N V Z i z p j F q l m U t C C n u   i j e x p W i Q H V h r J Z t e t n H M z H   d I   Z x i S t c U J f W t o n F R N   T r   T Y M R b A X O l O D o t h Q t D F G T z   j W x   g u I x q i M T H i b I   q z j L V e u L H a X l P L V s T u u R n t P T w O q p     N f v Y L f   h X B X H g   Z H w h O a D d X D t K r F b K P t O I a t M y F X w   W E F H y p h A P j y C P D t C I f F I E L B e h k x M B Y g J K I L o Y t h Q o M H l E K B F A H C s P Y i u F P T Y M J l Y W e Y S A t M l I C   q e H t q h X b C U H Z x E P E u X E s W u W t A Q Z d Y m l V C I z M X H t X O O L a P X u H x Y b H J x f P b z   k Q s P q e L e t I H K j r v p G Y   h   s h h t O X H F C U g D b C p e d d e k Y L H   a R b y S a m m n a E J m g A Q g g O n w l m r j E h I   f A P V a Y s r v u X H t v D j W z M e L t   s G d v B T D i l C t Z j z M A A I x V t u p A U x t I M e p A A M J H Z d F K d x E e u S H L U l f u Z F k B   e w t A I p k h h f L A G   J M B O S S R p Q H o m Z y K Y I t i S X H X N D k S   W   q J G e D r m j L Y P r u d   E V L v F r h S j E t A l i i M l J q m Q W s D U P b R I l k U s o o J S V M a v P V u s r l i b H H g n H u g c o n v U k z E N A B m i S U s d u l e f b O J a e d l C L D T w M A   M W C l V F L t t y U g y D l o B X o J H H L D P Z T F u B K w Z m M H R E t f f K k T     F I L X b l p v F d u R G   U t I H h E L   W E G t C u u u o t R L D u O N c k J d e D E t z i a L j a O w B B B p S P a w u E t   S r c A T Y Q   i A S u I h f O j I v W t n E X A h b X M C V B O J r h v k B n H   E v x L h S e Y I L Q J i M h M J L b h t a g B U   d P E V h S S G A i M O L I L L q L n l F n   m e O A N n t z I o S d y v r L U v f E k C W F G p t M h A W x u N A w u r A K Z z B W D J h E t M R M b M V z Q q H N a j A p t E p a A s k D G Q s b b C a g p o L y N Q R m P J m u C T y M S W I g a O r B y O M H t d i x f K P p a W i W o y K i F M A u O X W z h I R L P   E P p R D h f K c A m V Q M B d c V c H r Q o r O f r D m H t b q u f J O V J b U P Y a l B G s u T G w w p R J Z   p h p V S C w m F Z a I x J   X p T a t g H O R l i u O e t L A J H g I H O P z D b u H d C n K y y y y x s D P T e h D w H Q G X L R O U c B x e   J j   C O R   A c U u B D C O M g c i T W g z f x z Q v n I Q p S Y S T p y d X p I B v H J p N t Z l z a P X d W I L T v T g D f F h F f M S c M N h w p   P o t C G L t K t t G c q R K L t L f x M m r a j E F x   D E t S M X E B W A B C k k s H I a j W R D E L e B u C b D d c X W D L s L A q C p g t X u v K M O l W o x n H s v f c l J x y W y Z C f o D P r M r g d s Q Z I A a u k G t S Z k w A M r R H O b E V w A h I c U W D X C w Q l w G v J u G A S y U G u d A A o l T b z E R   l Y G w S t T S k B k u E F M X Z f I O G K t x T a T C l n A Z C S K q S n O K l u p H h e L x C L W N g D E C d d f i d c d b S e d V B G P v K t Y h p k D S F l u v F U j Q s L l c T T t D Y Y W X F H M a t n Y A a t k e m p A v E t t G w A E R u j x e p p m   y t u b x K L e D J P h h o o h w Q a R I u Z V K t e L H b N F M i e   v P L   j x w d f n q D K Q y R x L H h l v I f   Q r P Y y i V C H   n Z m x K T m D b w w u w I x q j r B B D k t q O f O j h q A p C Y u G x U Y F J g f T g Y g X J U l x J m c P s v I x D z t G A A b H B k P W G   L Z h b C i u D E S D O t I M E R S Q L i k r H a A t U O d a E u t m c C T x f G r U F I U I x J c P H w   s x c Y n t V K b L h I c V P   Z K D B c H J X     v y t Y j X D S o C Z g m t S w R Y x L X G g Q w L A k s e m b i W O k P S R K L h   a u u z D U U K P o Q s t J c W M c G O u t j C h p g T p z I G K s C G a   q x d S t A v t s Y   G p g j D N h w b Y N l s z   Y h h b x u l t Q P E P a O A X T u C C k g n p p R f   K X v H c f t v G D j s D u a I j L Q j W t p   M G X j H H c k M J J O Q i i B E N g t Q O X O t D a s u E D M M t s r A O r y y Y m H c X a z o T D t j t E p M F e A D X W   V e A t C t S u I Q h   z I D U t c y Z h t c q g W E C m P k O c G C A d H m D d w   v Q R s a s m K p K I s G E P U z a I S A X T z t w m   W t r a e T Y Z l w A H   p d t v h P o z f b E K c I C l x A p X P A O E r T R B d l l K T c w A M L e R y H Y b H   x i G B h U a C k Q O k h t H s b L d B C P w p p B f P Z P P Z   N G F u t b A O t Q I H W K X q H l F G t n d t e E t t j K M K a S X A l f h v Z D G K a B k p E E h d D O Q B T v E k T K e   V u t S H D u P E F X I u   p n R s H o C O A d X v t f L S E R e I P B H t D x p a P u G V m H V H D i I U A G S C k L v u Z F n O H p B t I u o r i O s p L x Y s v V l H v M H x p B N d   j h L D l f R d t T v v D D O m d D h Z Q D X C h l T t x e l q h q K p h r B B X X x R   r U y L X R K R l R B T y W m Q D W U Z x L b f H M c O P R f l l P A B u o h O x P M D J H V c B R H g m o n s e c V d s p r o f i l e R t w J O     K l H l C L   b j s a   t V Q t G W R X p h P p B j Y v G D M I p H x T Z B o H x i M X D p   K U   j   O   O X O H T j l F C H d X o A n d Y M r c D k U u X P C z G V A T Y W V P B R j J v Q h A T u J u U V F B u i L t e U y s k R v e m p E f u P h O m m e T E m h D h o j   t J C e D A H A B k f l R G x B X I p y D Z E   M w r D g t x B L c b f z j H q P P U p X K a s a v Y X l m V l e w O m e M   I o E d h T k p c L s K l D t E w   g U o l B   D t j O H f H p r M     R t X S E L f W K T u l W g k T D H j X E n P H p E D y A k y c V E c I k   L E C L r     z b c I j E t c V g G d i   V o x N a N   l   K H G O c p D N O w R T H R C S Y X v a X   d u r r R E w C B F I x K E Q t z c h t d X h W m C E r A S O P P E D c X H p s H T D s x b s r   A L p D o E I U a R u X g R M M E y b   V D l P X x j F j W p N L c   v q   l s q E q q x D a T O s J C P F b t T R c C Z a j r D T z K p T D E N p y H J d s D t l Q k W A N z B X D v X x L e Y w y u x T o s t o b u   Z Q A u W r H G   X L k Q k E u W r f k k X T G G   t X A t H h R o B V n f P J X L G x D F P g V J i x Q r C o S b c F n a y i y z P c v t b C H A b H Y A b V S P x E Q B N A V S x E o E I s k p h   X P H i A W l X U F N K Z h f O J U T h E Z D x q T w Y z B l h s I R D p t r H s A v g J q v z o i v u Z z W D J L M x a W B j a   s t a N T T g J J u J A S K N O x j b t x E b U f o x d   U t I Z M o W L e S z e X A b T h a a h o x V H l J g B D Z w u B x W N S P Y r Y P T A A q A d   f P D H l m h X t T B N s M y v d   L   f H   b C t I Q H C v v O H V t M s x l B m Z A E A H e c Z U W O H C L L u h J q p   F W M L R p   S b p w u x k K p B v a K i O o m H R I u I L M B G p j l K z V w D E p U R B G t E X c d p r l H N w   c o i U Z l v K l S X D O y B W z x U k p T u T e H S q m W M F E o W u A r X I c L   m Z G X H t Z S R I F s p A D H c A q v P r u D o Y f B B z x E p R   C   x X Y M k W K M L K s z k l j s q L L   o r p h   t f A b H t p Z A l o I q z u   P t S a O T R p   x i J Q i u p E H R X h m r I w l H g e l B X b a N A V U E f A m k H t O Y E l P A N H p b d F F F f F F F F v p j F F F F d X R m r J F I p l L X Q H u F O f f R P h h m C o Y C u M B H B h y T y G j U Z K i H a s r f z t Q q m A m W   t T L U D j E D U W O K k   E I w U K u I F A T k G H A t d N x u p A f D t B l Y j u s I   H t M k D J j c k b i L O L W t d C t x P c r s J m q   v H v b m a c j c r x A z g V P W X f t W e K T n n m M M e S l p t t y N F t t f W s M l m D D C D C D C D C X o G l e A C P H l L G a b V C u C r x m T o L e M a p w u U M v j h   x z k x v M T N H t F h o   i g B q Q H   Q S h f u T O c K S m U t S I p L V y H A u O c   a M K m g b d B A H H P d P X X A h d B h p H H O R H x u u   L O a E F G S L O t x P b e K   s o u B   l i k e   a   d e m v e r y v i c o I   w i l l   m a o c V j H t r c p V m t h N f l a g F n L   o o   o l d v u r o m G a t X m i i s i o n i f u q s   f a s d d f o r h r e x p e c P y   v o i h w f n I B C S T D E R R U   B a c k h M e m o l f s   n r d H M d Z p     x f   h h o f f z k m w n c r u p t a n u b l e T O P P A D M M A A R E N A L R I M O L D v t T   e Z r i P p h n P v r l a H p C J f w d o l o t h k s v i U u l X R Y S E A a i m r e l m s m j d U e W W y W r e d l l g         k p O i W N n f f x O C J A a z G l z m I G K n b p h m m E m     G D U i O Q Q e n p s k b z k B f R t F U f o   r A r E s I m e C v X h c m e A   P N K a x O N n a d a t e f   C O h v Q v f B q F F F v y   r N s u F v f n q r t j r r r r   P d e p s x a r c h c a h a p p e n n d l e a m d A c k w o r Y d l o g   c i l i t y d h k v e c p r k B F b h h e r   o v a N x v a r t m p f i l e G C O N V F T H F D I R l O S p I A S E D A U T D E B U G O U T P U Y N A M I C W E A K R A R Y O R I G I P R E L O A D O F I L E v G B D O M A v N I S W X N o A g U C H E C K S S U M T J y Y B p t g o d b s   C z S O I E C     i n   F D C K e l S i m v e n d k u u g   l F J T C S   a C p W G C o   k t o r g h K o b h a v V   x A B C D E F G H I J K L M N O P Q R S T U V W X Y Z a b c d e f g h i j k l m n o p q r s t u v w x y z   y y y y D E F G H I J K L M N O P Q R S T U V W X Y Z a b c d e f g h i j k l m n o p q r s t u v w x y z P r o r A R S E L A N G R U A G E P O S I C u s r s J e I K l l a n g n L p l P C y B p u n c t d v f L n t f   m b Q n q E   t u l F n e c S   j   N i M W O f C b L b L V p r v E P q p E I O N A N N F h e x t d i o c o m d e c i m a w c L n t X f x f m t i b x f G H u s L N Z a l b x C O J e n q X l l a b x N B D y y F H J L N P R T V X P p y g O E M P T Y A h I L L E G A L E N m T E K F U l a H f B i O W   Y A N S I X T R L I T   D A Z a z v n u m e s C e t o n   V s X H n   p p z P n a m t p V t i s T G k   m k H D e c m k c   i f a   d   F   p u i N m d H M S   p U O f v   l m o v b P b J q q   t Q x i   U P T s e l M m q K q e r o C P A h n g   u p I L P O F F p B I B z p f R H N N N F l r x O z p f S I O N n   O C R E A T E n o X y s i p p b e X l C e d e x Z u c k   a s w q u i r e s E L F   y i r F r l y   q O T L S X o G y D a j l u B   k d E l f R e l l x V N D   n o R R x p d x o e s i o c o n E X E C x R U N p y K   x n b j t c Y p T l R A D D J O A B I   n d B c E u u x g l H l o X a q c w x n g O c C F S S C G N U X k e x l f h h w F p Z p m b o l B K P i D h i E r o   O K U P N C Y L   G S C O y b i n d M c t o u n   b l o Z o e r P Q s a w f K J e f t e a r p R X P L T r N E   U x z y n I J y r N O a v E   L I N f d l G U   m m i s   o i f r   c l i t v W W H n k i h a I G N O R E b l U K R G k h w f c t S B p   U C S H P Z T A L J L E S l e W l e u T F g T N I C O A s o F B O R O S F f T I R S   h S C I I y y U S q c I B M C P S E T L E b B x   v T   u q B o H o b B i s k r r q o a p d a T   X o c d o U H P h w L O L E N P R I C T I M p E S S x S k j P O A R E S L E P H O N i A S U E T U E P p H J o N N n g b f c k p e R s   g k j r n K t A p a w P S   o P B D F H J L N P R T V X Z b d f h j l n p r t v y B p r t v x z y h j l n p r t v x z B D F H J L N P R T V X Z b d f h j l n p r t v x z   y y B D F t v x z   y y B D F H J L N P R T V X Z y y b d f h j l n p r t v x z t v x z y y y y y y   y y r r r     D G H I a b   c E F G H I S T U V W X Y Z a b c d e f g h i j k l m n o p q r s t u v w x y z d e j k   a b c d e f g h i j k l m n o p q r s t u v w x y z t u v o W C a Q R S T U V W X Y Z q r s N N N N N N N N N N N N M N O N N N N P R T U N N N N V W Y Z N N N N N N N N a b c d N N N N e f h i N N N j k A B C D E F G H I J K L M N O P Q R S T U V W X Y Z A B C D E F G H I J K L M N O P Q R S T V W X Y Z a b c d e f g h i j k l m n o p q r s t u v w x y z v W p r r r r r r r r r r r r r r r r r r r r   r r r r r r r r r r r r r r r r r r r r r r r r r r r r r r r r A B r r r r C D F J r r r r K L M N r r r r O P R S r r r r T U V W r r r r X Y Z r r r r r r r r a b c r r r r d e f g r r r r h i j k r r r r l m n o r r r r p q r s r r r r t u v w r r r r x y z r r r r r r r r r r r r r r r r r r r r r r r r r r r r r r r r r r r r r r r r r r r r r r r r r r r r r r r r r r r r r r r r r r r r r r r r r r r r r r r r r r r r r r r r r r r r r r r r r r r r r r r r r r r r W a x F F F F F F F F F F F F F F F F F F F F F F F F   A B C D E F G H I J K L M N O P Q R S T U V W X Y Z a b c d e f g h i j k l m n o p q r s t u v w x y z d d d d d d d d d d d d d d d d d d d d d d d d d B F J N R V y y Z a e i m q u y W x x x X X x x X X X X A D I N Q T W Z c f i l p s v y   M     M   M o F O R z F C G K O S W y y c g k o h O G h h E K h B E H K N Q T W Z c f i l o r u x A D G J M P S V Y b e h k n q t w B E H K N Q T W Z c f i l o r u x A D G J M P S V Y b e h k n q t w z y y B E H K N Q T W Z y y c f i l o r u x   A D G J M P S V Y b e h k n q t w z C R u d o A N N n g a g c s c o J r u g K l N m B K F M o K i D d V m h k V G O N O N w K l V F C   U o E X g J B B r C W r W W r x W r a W r b c d r W r e f g W r W h i j W r k l r W r m n o W r W p q r W r s t r W r u v w W r W x y z W r A B r W r C D E W r W F G H W r I J r W r K L M W r W N O P W r Q R r W r S T U W r W V W X W r Y Z   o     r       h O a d K b r o B l p c g l r W k M G E p W T u k W M G P d l p g W W W C o q q v g v l i O v b s r K K L M N S X r O K a b k r r s t u v w x r y z r D A g B q g M S u j W m F r i a t d a y F e b r k w w S a l u g P O c D e c u a r p c h u i l q e s y u u s t u w e l G W O p u g G b r G n m o e h O   M S G Y   H Q X a e i m q u y N N N n N N N N N N N N L l n x P N N N f A m k p n J u D s r o n u Y D e I C I G U h L U U y C y D j z p o b t j M P t t v u Q x x j o A c X X b d I B I v f s c a N L M B   c Q v r M h g C h e q h e O o n c L t J M H r S j e t V T g u A B a d c h d e B p A B D Y H e x t C K c f t   o n I l   g e e K O e d c k R P f o d l b Q C h N e l n B m L e v h r i z e d m   v l t i v e r e s l j c c   i s Q P d a g i i R l l d t e s e c S z T E U h o p M m M p p Y X p A f s X j R c h I S Z n n n H o s t L p w N F S Q V n g X E N I X g i N l e G h I O u o r W d i X P m r o k w V D A i K a o u K l b J t f q e d b y s a c Z p n s o f P i   i G k e d O X j l i c x O o b   R F k i l N N N N N O N I r r r M N N k v d d H x S O h O t A x D G x i o f i m Q a f i x u p G S P R I V X M i A y A U c y w V a   Z l   D L d u w     Q     k u S E s I   V q x E c A f c u n d A x X A C y N P Q S T V W Y Z x n V b d f y o r t v x g l o b K h e S I S T     P t h   o l p k j X H r o y M M b h t t p w s Y p h N D   S U I D S G K S e d b y L D E L i s t J i o r s R T N E X u s c s y L J y m N Q S N I P I D T d F L G D A C c j I l c T M j d P w U t x N B A D z m z n l l C G v D Q J r l P h W y W X y d H p D X e r g n u h F x i p D g G E N   F s T H z u u N O R M Y R o L   h e B b P l O T h m G N p n h h o D O W D A F A C D o C F S   Z w X C h h y x   o M y D J q u C C J v p u R O F O C O t X A o J J I K F x s H T K x y L L r G L E J D n o E j E t q g y L Q H H e I T X t m H D e o x P T s o K o x p R h o d v Y K L n P Y S T h b N o M O F c D j D o J h O p N e B C   k P P n B D h n C j R p P Q c v n G   b u R d G C H o F q h J N H c s J h Z y K O y S r B o d X K m J o P p b Y P z w y i K A N R J p Z y J   X C S x R H O Y J A l q g C S E s m U r Z F p N n   D o E O q n H H B g z M T N x s A L W h H U D I V I o G h r D k o L P B x G u F K f t R y g G B Q J R Z c S w P B K J L   U o J t N h N   J K T N P A K b J s P x P s P K p Q h R B k F o v h f N y n O L D B G t N M Y j h c T o H p w t A N s i   p o d x x C P i H E J L w M O l   o   t I q Q S   K K J K t O X o u O O w Y a u X L T Y x T P o D x U o T K T d b   M J E L j O v E e i O F H N h A x x q p D F V f f I b   D B C p H l l O A o o O E A C G H U S Q R H P R O T E X E C P R O T W R I T E   f a i l e d I n f o   T h i s   f i l e   i s   p a c k e d   w i t h   t h e   U P X   e x e c u t a b l e   p a c k e r   h t t p u p x s f n e t   I d   U P X     C o p y r i g h t   C     t h e   U P X   T e a m   A l l   R i g h t s   R e s e r v e d   j X P h j A Z E p r o c s e l f e x e I u J H Y H P X u A A T L   t H L o P D A b Q s A o X I J e l h A A V r M N A Y A Z t A P Z h E T P I G C C   U b u n t u L i n a r o   u s y m t a b n o t e A B I g g n u i l d i d r e l a p l t l i b c f e n t h a d f e h g c c e p t o r d Y x b s s c o m w U k h I l R M I d e l P E   a b a   O g o j x S b   s B n H p o W O   N n j D n B n y r J E v f P L n O C n O s R O B n C o x N k D F O T d r z v r p o N N N O n O n D r v r r r   e f E n h p d p R O v v a O g y r O   N N n n O D N A m o x P v r g O U F y E M O P X B N Q B N C k b N O   P Z y I l O F O N q A   m x r r B F t B N W E B N P P B N p m B N a r r r s y O T m b x m l r p n S Z o F R a   n E n o r O a r r r r r r r r A u f o K c J G r y r r r   T o V s x O   o E E O V p o o c r r M f v p o S a a W L o W c o H Y O N N O D E I o N n a R O u d O o p A m n   l s B C o S b P n y o O A o C p E l D O Q p A A W j y I W a Q P F U x o b O D Q o   H m A o V r A O p o v A A S B N   t n w   p B Q H q O X p f x B n o P j o C O k Z C n W O p D d   P O z n E n z F W l o O d z Y R O J O N p T A x o K v W B K Q K o x O N H Q o m f n P O Q P n x Q q p J Q x Z S g Q Q x O J R I x w M K d l w P N   p o P v Q j o u F H C p E l w P O U B O U V U Q   H F W W   o X G P c K r   N f C k o P O D O X U G r n o l F i f c m c Q O O r C o l O M o B O f g x f H n b o b v P c f h p K D o M N Y i C U F O f o N H d f P J f v N i N l a S l O g P n j o   i w o T i h n c y o v Q J q w j P D p N f T l b l b O U l t l O e O l p e O n n E P r o H A t b E l   o s R x q q P J i     N l z v D w q A p f O x y o F y m c a l l g m o n s t a r t u f f c C T O R L I S T D E H F R A M E B E G I N f J C d o p l e t e d i d x X u m m V n j e c t s d M A L f p l i L e n a f h o o   D f o c u r i c n t r S d u n W L e u m L m j x R I m E p r a i F M e R E x d P t g b b y w A F o i n i U s Q   x a q r e   x o m v E E b K y Q y q P e l f s C e L v f a f K j u m p B o u p n J b X t s p P R E T T Y F U N C T N a W a h a r d f i T r p a m n o r z e K k p j o o v d t e E G r t l d y a d k m a n H d y p p k e n X v L r H t h m y h r n J m W q x a g c v t Y C i a l C p P   x X u r U k p m i A B X o S E A E o w F a E C F G A d d r e w d P H m p I v a r z q m b u t p D X s p V T L a d D d o J s   g s p I l N i q f r z o C A o n q r a a y p E p U   x G k O N s k o f f i P x s n R e c k W h U a s e l p x X w X   c z a A q p u s e t i s T b m E z h d k t e r t o y n m s g L N V y r X l j b u H v d C C N S o d c b E Q s o p p C l g A q Y G i O t r e l R q c a t s h d x n t u m s g S C Y P E N U M E R I C M a C O L L A E S S A G P A R A A D D R E S L E P H O N E A S U n j I D I F t b l t o C t o t Q a o A g t h C S W T C H l l f t r o u u D G t m y G c s p G u s s N B x v a t n V s r Y n n n E z r B k e r N N t d l b r s e C z B Z p Y S X W d d E R a i c i e Z v J n l I m k p l G L O B A L O T A B L E u T b K y v y K G a J H Y b X B p n v F   l s M G I I P I A R k A j l C K g e W S p f i C D e r B u t w t d f w d m H p a T b l e W c i c n s m b s I M x u A k R b c X p o w m e c D H v a y S l M f t e I m r t V U n o W l c t z M U H q x u p d a m b c w W V c m e M a d w n G i K F i c s K X T C F A X i m m K f i d e M Q Q l i f s T i o u n s a X N y Q f K S V X U R f c t V X a p p M g h o s s o J Q Q A Z U u X R c u   j u d p v B C c G u n h T O L O W E R e v S F I t v s e n d e n U Q h K p b i l o l e n Z m j i m y n O c c   O d v f O f y y U t z h d r y C a t d e Q S s h f r o l s m p K N X y   R n u E H s f B m k B c c I o u w u t s w c t p e d i Z D j q a C g f a V C S g w A n k i n E J B F e r t L d u p I Z g a p n l u g w q I O V t a t y L l U L T o r J n N d l s b r k c h n s E q I s s G u n w t f C F c H X I e t I S a c h s B h t U f y k t c k p i D R E x c a Y c y f I O w m P O S I X a d r Q P y s Q p u p O F n u m N a i t b U I O a p c t e n s A B Y G D a g R e y F   s a   W U H n s m b U M q b e C u i r s v e R u R o C w c a t f t Y R a F Y H b A L D H k u i a l M P H Q G M q I p I d l q c v t G d l l u b K U P P n s f L Y I t c o M i n p U c h d b C n I H i   C E L E K B h I x u n d l t p R c R h B a M h U p b r k m a k B N s u R U P X U P X "
     ]
    }
   ],
   "source": [
    "!strings flag | grep -oE '[A-Za-z ]' | tr '\\n' ' '\n"
   ]
  },
  {
   "cell_type": "markdown",
   "metadata": {},
   "source": [
    "Definitely was not the fastes approach looking through all the characters, but i found this string:\n",
    "f a i l e d I n f o   T h i s   f i l e   i s   p a c k e d   w i t h   t h e   U P X   e x e c u t a b l e   p a c k e r   h t t p u p x s f n e t   I d   U P X     C o p y r i g h t   C     t h e   U P X   T e a m   A l l   R i g h t s   R e s e r v e d   \n",
    "\n",
    "So, if it has been packed with UPX, maybe we can unpack it?"
   ]
  },
  {
   "cell_type": "code",
   "execution_count": 18,
   "metadata": {},
   "outputs": [
    {
     "name": "stdout",
     "output_type": "stream",
     "text": [
      "                       Ultimate Packer for eXecutables\n",
      "                          Copyright (C) 1996 - 2020\n",
      "UPX 3.96        Markus Oberhumer, Laszlo Molnar & John Reiser   Jan 23rd 2020\n",
      "\n",
      "        File size         Ratio      Format      Name\n",
      "   --------------------   ------   -----------   -----------\n",
      "    883745 <-    335288   37.94%   linux/amd64   flag\n",
      "\n",
      "Unpacked 1 file.\n"
     ]
    }
   ],
   "source": [
    "!upx -d flag"
   ]
  },
  {
   "cell_type": "code",
   "execution_count": 20,
   "metadata": {},
   "outputs": [
    {
     "name": "stdout",
     "output_type": "stream",
     "text": [
      "total 864\n",
      "-rw-rw-r-- 1 povilas povilas      0 kov.    5 18:46 crackit.ipynb\n",
      "-rw-rw-r-- 1 povilas povilas 883745 kov.    5 00:14 flag\n"
     ]
    },
    {
     "name": "stdout",
     "output_type": "stream",
     "text": [
      "total 864\n",
      "-rw-rw-r-- 1 povilas povilas      0 kov.    5 18:46 crackit.ipynb\n",
      "-rwxrwxr-x 1 povilas povilas 883745 kov.    5 00:14 flag\n"
     ]
    }
   ],
   "source": [
    "# Make it executable\n",
    "!ls -l\n",
    "!chmod +x flag\n",
    "!ls -l"
   ]
  },
  {
   "cell_type": "code",
   "execution_count": 21,
   "metadata": {},
   "outputs": [
    {
     "name": "stdout",
     "output_type": "stream",
     "text": [
      "I will malloc() and strcpy the flag there. take it.\n"
     ]
    }
   ],
   "source": [
    "# Lets try to run it, fuck it\n",
    "!./flag"
   ]
  },
  {
   "cell_type": "markdown",
   "metadata": {},
   "source": [
    "if the answer is there, can we search for it:"
   ]
  },
  {
   "cell_type": "code",
   "execution_count": 3,
   "metadata": {},
   "outputs": [
    {
     "name": "stdout",
     "output_type": "stream",
     "text": [
      "I will malloc() and strcpy the flag there. take it.\n"
     ]
    }
   ],
   "source": [
    "!strings ./flag | grep \"I will\""
   ]
  },
  {
   "cell_type": "code",
   "execution_count": 5,
   "metadata": {},
   "outputs": [
    {
     "name": "stdout",
     "output_type": "stream",
     "text": [
      "([]A\\A]A^A_\n",
      "[]A\\A]A^A_\n",
      "AUATUSH\n",
      "[]A\\A]\n",
      "UPX...? sounds like a delivery service :)\n",
      "I will malloc() and strcpy the flag there. take it.\n",
      "FATAL: kernel too old\n",
      "/dev/urandom\n",
      "FATAL: cannot determine kernel version\n",
      "/dev/full\n",
      "/dev/null\n"
     ]
    }
   ],
   "source": [
    "!strings ./flag | grep -C 5 \"I will\""
   ]
  },
  {
   "cell_type": "markdown",
   "metadata": {},
   "source": [
    "And there we go, we got it, flag is: \"UPX...? sounds like a delivery service :)\""
   ]
  }
 ],
 "metadata": {
  "kernelspec": {
   "display_name": "venv",
   "language": "python",
   "name": "python3"
  },
  "language_info": {
   "codemirror_mode": {
    "name": "ipython",
    "version": 3
   },
   "file_extension": ".py",
   "mimetype": "text/x-python",
   "name": "python",
   "nbconvert_exporter": "python",
   "pygments_lexer": "ipython3",
   "version": "3.11.6"
  }
 },
 "nbformat": 4,
 "nbformat_minor": 2
}
